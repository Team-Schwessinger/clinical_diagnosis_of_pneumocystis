{
 "cells": [
  {
   "cell_type": "code",
   "execution_count": 1,
   "metadata": {
    "collapsed": true
   },
   "outputs": [],
   "source": [
    "import numpy as np\n",
    "import os\n",
    "import pandas as pd\n",
    "import matplotlib.pyplot as plt\n",
    "import matplotlib\n",
    "from matplotlib.colors import LinearSegmentedColormap\n",
    "from matplotlib.colors import ListedColormap\n",
    "from matplotlib import rc\n",
    "import seaborn as sns"
   ]
  },
  {
   "cell_type": "code",
   "execution_count": 2,
   "metadata": {
    "collapsed": true
   },
   "outputs": [],
   "source": [
    "%matplotlib inline"
   ]
  },
  {
   "cell_type": "code",
   "execution_count": 3,
   "metadata": {},
   "outputs": [],
   "source": [
    "def generate_taxonomy_pivot_prop(tax_df, rank, bcs, num):\n",
    "    \"\"\"From tax_df, generate a pivot table listing sum of prop for each rank counts, sorted by sample name\"\"\"\n",
    "    pivot_table = tax_df.pivot_table(values='prop', \n",
    "                                            index=rank, \n",
    "                                            columns='sample', \n",
    "                                            aggfunc='sum', \n",
    "                                            fill_value=0)\n",
    "    pivot_table.columns.name = None\n",
    "    pivot_table = pivot_table.sort_values(bcs, axis=0, ascending=False).head(n=num)\n",
    "    return pivot_table\n",
    "\n",
    "\n",
    "#count pivot table of dataframe with taxonomic columns: \n",
    "#rows - rank names, columns - barcode, sorted by desired class\n",
    "def generate_taxonomy_pivot_count(tax_df, rank, bcs, num):\n",
    "    \"\"\"From tax_df, generate a pivot table listing num rank counts, sorted by sample names\"\"\"\n",
    "    pivot_table = tax_df.pivot_table(values='read_id_wimp', \n",
    "                                            index=rank, \n",
    "                                            columns='sample', \n",
    "                                            aggfunc='count', \n",
    "                                            fill_value=0)\n",
    "    pivot_table.columns.name = None\n",
    "    pivot_table = pivot_table.sort_values(bcs, axis=0, ascending=False).head(n=num)\n",
    "    return pivot_table"
   ]
  },
  {
   "cell_type": "code",
   "execution_count": 4,
   "metadata": {
    "collapsed": true
   },
   "outputs": [
    {
     "name": "stderr",
     "output_type": "stream",
     "text": [
      "/home/yiheng/anaconda3/lib/python3.6/site-packages/IPython/core/interactiveshell.py:2717: DtypeWarning: Columns (16,17) have mixed types. Specify dtype option on import or set low_memory=False.\n",
      "  interactivity=interactivity, compiler=compiler, result=result)\n",
      "/home/yiheng/anaconda3/lib/python3.6/site-packages/IPython/core/interactiveshell.py:2717: DtypeWarning: Columns (16,18) have mixed types. Specify dtype option on import or set low_memory=False.\n",
      "  interactivity=interactivity, compiler=compiler, result=result)\n",
      "/home/yiheng/anaconda3/lib/python3.6/site-packages/IPython/core/interactiveshell.py:2717: DtypeWarning: Columns (17,19) have mixed types. Specify dtype option on import or set low_memory=False.\n",
      "  interactivity=interactivity, compiler=compiler, result=result)\n"
     ]
    }
   ],
   "source": [
    "# Here is just our organization of files, basically just need to define the path of final_df for each sample.\n",
    "PNbasedir = '/home/yiheng/data/20180809_FAJ01633'\n",
    "PIbasedir = '/home/yiheng/data/20181118_FAH84398'\n",
    "PN1_df = pd.read_csv(os.path.join(PNbasedir, 'analysis', 'final_df.barcode01.csv'), sep='\\t')\n",
    "PN2_df = pd.read_csv(os.path.join(PNbasedir, 'analysis', 'final_df.barcode02.csv'), sep='\\t')\n",
    "PN3_df = pd.read_csv(os.path.join(PNbasedir, 'analysis', 'final_df.barcode03.csv'), sep='\\t')\n",
    "PI1_df = pd.read_csv(os.path.join('/home/yiheng/data/Pneumocystis_first_run', 'analysis', 'final_df.barcode01.csv'), sep='\\t')\n",
    "PI2_df = pd.read_csv(os.path.join(PIbasedir, 'analysis', 'final_df.barcode07.csv'), sep='\\t')\n",
    "PI3_df = pd.read_csv(os.path.join(PIbasedir, 'analysis', 'final_df.barcode08.csv'), sep='\\t')"
   ]
  },
  {
   "cell_type": "code",
   "execution_count": 5,
   "metadata": {
    "collapsed": true
   },
   "outputs": [],
   "source": [
    "# add the name for each sample for plotting\n",
    "PN1_df['sample'] = 'C_1'\n",
    "PN2_df['sample'] = 'C_2'\n",
    "PN3_df['sample'] = 'C_3'\n",
    "PI1_df['sample'] = 'Pj_1'\n",
    "PI2_df['sample'] = 'Pj_2'\n",
    "PI3_df['sample'] = 'Pj_3'"
   ]
  },
  {
   "cell_type": "code",
   "execution_count": 6,
   "metadata": {
    "collapsed": true
   },
   "outputs": [],
   "source": [
    "# here I listed all fungal Phylums to group all fungal reads as fungi is a subkingdom, I did not add it into the taxa dataframe.\n",
    "fungal_phylums = ['Blastocladiomycota', 'Chytridiomycota', 'Glomeromycota', 'Microsporidia', \n",
    "                  'Neocallimastigomycota', 'Ascomycota', 'Basidiomycota', 'Mucoromycota']"
   ]
  },
  {
   "cell_type": "code",
   "execution_count": 7,
   "metadata": {
    "collapsed": true
   },
   "outputs": [],
   "source": [
    "# subset each final_df for plotting figure 1\n",
    "subset_PN1 = PN1_df.drop(columns=['Unnamed: 0', 'barcode_arrangement_blast', 'bitscore_blast',\n",
    "                    'class_blast', 'length_blast',\n",
    "                    'mean_qscore_template_blast', 'nident_blast', 'order_blast',\n",
    "                    'passes_filtering_blast', 'pident_blast',\n",
    "                    'read_id_blast', 'sequence_length_template_blast', 'species_blast',\n",
    "                    'sseqid_blast', 'staxids_blast', 'coverage_blast',\n",
    "                    'mean_qscore_wimp','exit_status_wimp', \n",
    "                    'taxID_wimp', 'score_wimp', \n",
    "                    'class_wimp', 'order_wimp', 'species_wimp'])\n",
    "subset_PN2 = PN2_df.drop(columns=['Unnamed: 0', 'barcode_arrangement_blast', 'bitscore_blast',\n",
    "                    'class_blast', 'length_blast',\n",
    "                    'mean_qscore_template_blast', 'nident_blast', 'order_blast',\n",
    "                    'passes_filtering_blast', 'pident_blast',\n",
    "                    'read_id_blast', 'sequence_length_template_blast', 'species_blast',\n",
    "                    'sseqid_blast', 'staxids_blast', 'coverage_blast',\n",
    "                    'mean_qscore_wimp','exit_status_wimp', \n",
    "                    'taxID_wimp', 'score_wimp', \n",
    "                    'class_wimp', 'order_wimp', 'species_wimp'])\n",
    "subset_PN3 = PN3_df.drop(columns=['Unnamed: 0', 'barcode_arrangement_blast', 'bitscore_blast',\n",
    "                    'class_blast', 'length_blast',\n",
    "                    'mean_qscore_template_blast', 'nident_blast', 'order_blast',\n",
    "                    'passes_filtering_blast', 'pident_blast',\n",
    "                    'read_id_blast', 'sequence_length_template_blast', 'species_blast',\n",
    "                    'sseqid_blast', 'staxids_blast', 'coverage_blast',\n",
    "                    'mean_qscore_wimp','exit_status_wimp', \n",
    "                    'taxID_wimp', 'score_wimp', \n",
    "                    'class_wimp', 'order_wimp', 'species_wimp'])"
   ]
  },
  {
   "cell_type": "code",
   "execution_count": 8,
   "metadata": {
    "collapsed": true
   },
   "outputs": [],
   "source": [
    "subset_PI1 = PI1_df.drop(columns=['Unnamed: 0', 'barcode', 'barcode_blast', 'bitscore_blast',\n",
    "                    'class_blast', 'length_blast',\n",
    "                    'mean_qscore_template_blast', 'nident_blast', 'order_blast',\n",
    "                    'passes_filtering_blast', 'pident_blast',\n",
    "                    'read_id_blast', 'sequence_length_template_blast', 'species_blast',\n",
    "                    'sseqid_blast', 'staxids_blast', 'coverage_blast',\n",
    "                    'mean_qscore_wimp','exit_status_wimp', \n",
    "                    'taxID_wimp', 'score_wimp', \n",
    "                    'class_wimp', 'order_wimp', 'species_wimp', 'send_blast', 'sstart_blast'])\n",
    "subset_PI2 = PI2_df.drop(columns=['Unnamed: 0', 'barcode_arrangement_blast', 'bitscore_blast',\n",
    "                    'class_blast', 'length_blast',\n",
    "                    'mean_qscore_template_blast', 'nident_blast', 'order_blast',\n",
    "                    'passes_filtering_blast', 'pident_blast',\n",
    "                    'read_id_blast', 'sequence_length_template_blast', 'species_blast',\n",
    "                    'sseqid_blast', 'staxids_blast', 'coverage_blast',\n",
    "                    'mean_qscore_wimp','exit_status_wimp', \n",
    "                    'taxID_wimp', 'score_wimp', \n",
    "                    'class_wimp', 'order_wimp',  'species_wimp', 'send_blast', 'sstart_blast'])\n",
    "subset_PI3 = PI3_df.drop(columns=['Unnamed: 0', 'barcode_arrangement_blast', 'bitscore_blast',\n",
    "                    'class_blast', 'length_blast',\n",
    "                    'mean_qscore_template_blast', 'nident_blast', 'order_blast',\n",
    "                    'passes_filtering_blast', 'pident_blast',\n",
    "                    'read_id_blast', 'sequence_length_template_blast', 'species_blast',\n",
    "                    'sseqid_blast', 'staxids_blast', 'coverage_blast',\n",
    "                    'mean_qscore_wimp','exit_status_wimp', \n",
    "                    'taxID_wimp', 'score_wimp', \n",
    "                    'class_wimp', 'order_wimp', 'species_wimp', 'send_blast', 'sstart_blast'])"
   ]
  },
  {
   "cell_type": "code",
   "execution_count": 9,
   "metadata": {},
   "outputs": [],
   "source": [
    "P_all = pd.concat([subset_PN1, subset_PN2, subset_PN3,\n",
    "                        subset_PI1, subset_PI2, subset_PI3], ignore_index=True)"
   ]
  },
  {
   "cell_type": "code",
   "execution_count": 10,
   "metadata": {},
   "outputs": [],
   "source": [
    "P_all.to_csv('/home/yiheng/analysis/clinical_WGS/Pneumocystis/final_df.all.csv', sep='\\t')"
   ]
  },
  {
   "cell_type": "code",
   "execution_count": 11,
   "metadata": {},
   "outputs": [
    {
     "data": {
      "text/plain": [
       "0.03398952917512419"
      ]
     },
     "execution_count": 11,
     "metadata": {},
     "output_type": "execute_result"
    }
   ],
   "source": [
    "# this is to calculating the actual proportion of bacterial sequences in each sample.\n",
    "subset_PI3[(subset_PI3.superkingdom_wimp == 'Bacteria')\n",
    "           & (subset_PI3.barcode_wimp == 'barcode08')].seqlen_wimp.sum()/subset_PI3[(subset_PI3.barcode_wimp == 'barcode08')].seqlen_wimp.sum()"
   ]
  },
  {
   "cell_type": "code",
   "execution_count": 12,
   "metadata": {},
   "outputs": [
    {
     "data": {
      "text/plain": [
       "0.26289252540245983"
      ]
     },
     "execution_count": 12,
     "metadata": {},
     "output_type": "execute_result"
    }
   ],
   "source": [
    "subset_PI2[(subset_PI2.superkingdom_wimp == 'Bacteria')\n",
    "           & (subset_PI2.barcode_wimp == 'barcode07')].seqlen_wimp.sum()/subset_PI2[(subset_PI2.barcode_wimp == 'barcode07')].seqlen_wimp.sum()"
   ]
  },
  {
   "cell_type": "code",
   "execution_count": 13,
   "metadata": {},
   "outputs": [
    {
     "data": {
      "text/plain": [
       "0.35559637202363586"
      ]
     },
     "execution_count": 13,
     "metadata": {},
     "output_type": "execute_result"
    }
   ],
   "source": [
    "subset_PI1[(subset_PI1.superkingdom_wimp == 'Bacteria')].seqlen_wimp.sum()/subset_PI1.seqlen_wimp.sum()"
   ]
  },
  {
   "cell_type": "code",
   "execution_count": 14,
   "metadata": {},
   "outputs": [
    {
     "data": {
      "text/plain": [
       "0.003762660020799794"
      ]
     },
     "execution_count": 14,
     "metadata": {},
     "output_type": "execute_result"
    }
   ],
   "source": [
    "subset_PN3[(subset_PN3.superkingdom_wimp == 'Bacteria')\n",
    "           & (subset_PN3.barcode_wimp == 'BC03')].seqlen_wimp.sum()/subset_PN3[(subset_PN3.barcode_wimp == 'BC03')].seqlen_wimp.sum()"
   ]
  },
  {
   "cell_type": "code",
   "execution_count": 15,
   "metadata": {},
   "outputs": [
    {
     "data": {
      "text/plain": [
       "0.0012361527566752308"
      ]
     },
     "execution_count": 15,
     "metadata": {},
     "output_type": "execute_result"
    }
   ],
   "source": [
    "subset_PN2[(subset_PN2.superkingdom_wimp == 'Bacteria')\n",
    "           & (subset_PN2.barcode_wimp == 'BC02')].seqlen_wimp.sum()/subset_PN2[(subset_PN2.barcode_wimp == 'BC02')].seqlen_wimp.sum()"
   ]
  },
  {
   "cell_type": "code",
   "execution_count": 16,
   "metadata": {},
   "outputs": [
    {
     "data": {
      "text/plain": [
       "0.10091624916656167"
      ]
     },
     "execution_count": 16,
     "metadata": {},
     "output_type": "execute_result"
    }
   ],
   "source": [
    "subset_PN1[(subset_PN1.superkingdom_wimp == 'Bacteria')\n",
    "           & (subset_PN1.barcode_wimp == 'BC01')].seqlen_wimp.sum()/subset_PN1[(subset_PN1.barcode_wimp == 'BC01')].seqlen_wimp.sum()"
   ]
  },
  {
   "cell_type": "code",
   "execution_count": 17,
   "metadata": {
    "collapsed": true
   },
   "outputs": [],
   "source": [
    "# separate the reads for each group, used for generating values for all the tables.\n",
    "subset_PN1_blast_bacteria = subset_PN1[subset_PN1.superkingdom_blast == 'Bacteria']\n",
    "subset_PN1_blast_bacteria = subset_PN1_blast_bacteria.drop(columns=['genus_wimp', 'phylum_blast', 'barcode_wimp', 'phylum_wimp'])\n",
    "subset_PN2_blast_bacteria = subset_PN2[subset_PN2.superkingdom_blast == 'Bacteria']\n",
    "subset_PN2_blast_bacteria = subset_PN2_blast_bacteria.drop(columns=['genus_wimp', 'phylum_blast', 'barcode_wimp', 'phylum_wimp'])\n",
    "subset_PN3_blast_bacteria = subset_PN3[subset_PN3.superkingdom_blast == 'Bacteria']\n",
    "subset_PN3_blast_bacteria = subset_PN3_blast_bacteria.drop(columns=['genus_wimp', 'phylum_blast', 'barcode_wimp', 'phylum_wimp'])\n",
    "subset_PI1_blast_bacteria = subset_PI1[subset_PI1.superkingdom_blast == 'Bacteria']\n",
    "subset_PI1_blast_bacteria = subset_PI1_blast_bacteria.drop(columns=['genus_wimp', 'phylum_blast', 'barcode_wimp', 'phylum_wimp'])\n",
    "subset_PI2_blast_bacteria = subset_PI2[subset_PI2.superkingdom_blast == 'Bacteria']\n",
    "subset_PI2_blast_bacteria = subset_PI2_blast_bacteria.drop(columns=['genus_wimp', 'phylum_blast', 'barcode_wimp', 'phylum_wimp'])\n",
    "subset_PI3_blast_bacteria = subset_PI3[subset_PI3.superkingdom_blast == 'Bacteria']\n",
    "subset_PI3_blast_bacteria = subset_PI3_blast_bacteria.drop(columns=['genus_wimp', 'phylum_blast', 'barcode_wimp', 'phylum_wimp'])"
   ]
  },
  {
   "cell_type": "code",
   "execution_count": 18,
   "metadata": {
    "collapsed": true
   },
   "outputs": [],
   "source": [
    "subset_PN1_wimp_bacteria = subset_PN1[(subset_PN1.superkingdom_wimp == 'Bacteria') & (subset_PN1.barcode_wimp == 'BC01')]\n",
    "subset_PN1_wimp_bacteria = subset_PN1_wimp_bacteria.drop(columns=['genus_blast', 'phylum_blast', 'barcode_wimp', 'phylum_wimp'])\n",
    "subset_PN2_wimp_bacteria = subset_PN2[(subset_PN2.superkingdom_wimp == 'Bacteria') & (subset_PN2.barcode_wimp == 'BC02')]\n",
    "subset_PN2_wimp_bacteria = subset_PN2_wimp_bacteria.drop(columns=['genus_blast', 'phylum_blast', 'barcode_wimp', 'phylum_wimp'])\n",
    "subset_PN3_wimp_bacteria = subset_PN3[(subset_PN3.superkingdom_wimp == 'Bacteria') & (subset_PN3.barcode_wimp == 'BC03')]\n",
    "subset_PN3_wimp_bacteria = subset_PN3_wimp_bacteria.drop(columns=['genus_blast', 'phylum_blast', 'barcode_wimp', 'phylum_wimp'])\n",
    "subset_PI1_wimp_bacteria = subset_PI1[(subset_PI1.superkingdom_wimp == 'Bacteria')]\n",
    "subset_PI1_wimp_bacteria = subset_PI1_wimp_bacteria.drop(columns=['genus_blast', 'phylum_blast', 'barcode_wimp', 'phylum_wimp'])\n",
    "subset_PI2_wimp_bacteria = subset_PI2[(subset_PI2.superkingdom_wimp == 'Bacteria') & (subset_PI2.barcode_wimp == 'barcode07')]\n",
    "subset_PI2_wimp_bacteria = subset_PI2_wimp_bacteria.drop(columns=['genus_blast', 'phylum_blast', 'barcode_wimp', 'phylum_wimp'])\n",
    "subset_PI3_wimp_bacteria = subset_PI3[(subset_PI3.superkingdom_wimp == 'Bacteria') & (subset_PI3.barcode_wimp == 'barcode08')]\n",
    "subset_PI3_wimp_bacteria = subset_PI3_wimp_bacteria.drop(columns=['genus_blast', 'phylum_blast', 'barcode_wimp', 'phylum_wimp'])"
   ]
  },
  {
   "cell_type": "code",
   "execution_count": 19,
   "metadata": {
    "collapsed": true
   },
   "outputs": [],
   "source": [
    "subset_PN1_wimp_fungi = subset_PN1[subset_PN1.phylum_wimp.isin(fungal_phylums) & (subset_PN1.barcode_wimp == 'BC01')]\n",
    "subset_PN1_wimp_fungi = subset_PN1_wimp_fungi.drop(columns=['genus_blast', 'phylum_blast', 'barcode_wimp', 'phylum_wimp'])\n",
    "subset_PN2_wimp_fungi = subset_PN2[subset_PN2.phylum_wimp.isin(fungal_phylums) & (subset_PN2.barcode_wimp == 'BC02')]\n",
    "subset_PN2_wimp_fungi = subset_PN2_wimp_fungi.drop(columns=['genus_blast', 'phylum_blast', 'barcode_wimp', 'phylum_wimp'])\n",
    "subset_PN3_wimp_fungi = subset_PN3[subset_PN3.phylum_wimp.isin(fungal_phylums) & (subset_PN3.barcode_wimp == 'BC03')]\n",
    "subset_PN3_wimp_fungi = subset_PN3_wimp_fungi.drop(columns=['genus_blast', 'phylum_blast', 'barcode_wimp', 'phylum_wimp'])\n",
    "subset_PI1_wimp_fungi = subset_PI1[subset_PI1.phylum_wimp.isin(fungal_phylums)]\n",
    "subset_PI1_wimp_fungi = subset_PI1_wimp_fungi.drop(columns=['genus_blast', 'phylum_blast', 'barcode_wimp', 'phylum_wimp'])\n",
    "subset_PI2_wimp_fungi = subset_PI2[subset_PI2.phylum_wimp.isin(fungal_phylums) & (subset_PI2.barcode_wimp == 'barcode07')]\n",
    "subset_PI2_wimp_fungi = subset_PI2_wimp_fungi.drop(columns=['genus_blast', 'phylum_blast', 'barcode_wimp', 'phylum_wimp'])\n",
    "subset_PI3_wimp_fungi = subset_PI3[subset_PI3.phylum_wimp.isin(fungal_phylums) & (subset_PI3.barcode_wimp == 'barcode08')]\n",
    "subset_PI3_wimp_fungi = subset_PI3_wimp_fungi.drop(columns=['genus_blast', 'phylum_blast', 'barcode_wimp', 'phylum_wimp'])"
   ]
  },
  {
   "cell_type": "code",
   "execution_count": 20,
   "metadata": {
    "collapsed": true
   },
   "outputs": [],
   "source": [
    "#calculate the proportion of total length for each read\n",
    "subset_PN1_wimp_fungi['prop'] = subset_PN1_wimp_fungi['seqlen_wimp']/subset_PN1_wimp_fungi.seqlen_wimp.sum()*100\n",
    "subset_PN2_wimp_fungi['prop'] = subset_PN2_wimp_fungi['seqlen_wimp']/subset_PN2_wimp_fungi.seqlen_wimp.sum()*100\n",
    "subset_PN3_wimp_fungi['prop'] = subset_PN3_wimp_fungi['seqlen_wimp']/subset_PN3_wimp_fungi.seqlen_wimp.sum()*100\n",
    "subset_PI1_wimp_fungi['prop'] = subset_PI1_wimp_fungi['seqlen_wimp']/subset_PI1_wimp_fungi.seqlen_wimp.sum()*100\n",
    "subset_PI2_wimp_fungi['prop'] = subset_PI2_wimp_fungi['seqlen_wimp']/subset_PI2_wimp_fungi.seqlen_wimp.sum()*100\n",
    "subset_PI3_wimp_fungi['prop'] = subset_PI3_wimp_fungi['seqlen_wimp']/subset_PI3_wimp_fungi.seqlen_wimp.sum()*100"
   ]
  },
  {
   "cell_type": "code",
   "execution_count": 21,
   "metadata": {
    "collapsed": true,
    "scrolled": true
   },
   "outputs": [],
   "source": [
    "# further trim the dataframe for \n",
    "subset_PN1_blast_fungi = subset_PN1[subset_PN1.phylum_blast.isin(fungal_phylums)]\n",
    "subset_PN1_blast_fungi = subset_PN1_blast_fungi.drop(columns=['genus_wimp', 'phylum_blast', 'barcode_wimp', 'phylum_wimp'])\n",
    "subset_PN2_blast_fungi = subset_PN2[subset_PN2.phylum_blast.isin(fungal_phylums)]\n",
    "subset_PN2_blast_fungi = subset_PN2_blast_fungi.drop(columns=['genus_wimp', 'phylum_blast', 'barcode_wimp', 'phylum_wimp'])\n",
    "subset_PN3_blast_fungi = subset_PN3[subset_PN3.phylum_blast.isin(fungal_phylums)]\n",
    "subset_PN3_blast_fungi = subset_PN3_blast_fungi.drop(columns=['genus_wimp', 'phylum_blast', 'barcode_wimp', 'phylum_wimp'])\n",
    "subset_PI1_blast_fungi = subset_PI1[subset_PI1.phylum_blast.isin(fungal_phylums)]\n",
    "subset_PI1_blast_fungi = subset_PI1_blast_fungi.drop(columns=['genus_wimp', 'phylum_blast', 'barcode_wimp', 'phylum_wimp'])\n",
    "subset_PI2_blast_fungi = subset_PI2[subset_PI2.phylum_blast.isin(fungal_phylums)]\n",
    "subset_PI2_blast_fungi = subset_PI2_blast_fungi.drop(columns=['genus_wimp', 'phylum_blast', 'barcode_wimp', 'phylum_wimp'])\n",
    "subset_PI3_blast_fungi = subset_PI3[subset_PI3.phylum_blast.isin(fungal_phylums)]\n",
    "subset_PI3_blast_fungi = subset_PI3_blast_fungi.drop(columns=['genus_wimp', 'phylum_blast', 'barcode_wimp', 'phylum_wimp'])"
   ]
  },
  {
   "cell_type": "code",
   "execution_count": 22,
   "metadata": {
    "collapsed": true
   },
   "outputs": [],
   "source": [
    "subset_PN1_blast_fungi['prop'] = subset_PN1_blast_fungi['seqlen_wimp']/subset_PN1_blast_fungi.seqlen_wimp.sum()*100\n",
    "subset_PN2_blast_fungi['prop'] = subset_PN2_blast_fungi['seqlen_wimp']/subset_PN2_blast_fungi.seqlen_wimp.sum()*100\n",
    "subset_PN3_blast_fungi['prop'] = subset_PN3_blast_fungi['seqlen_wimp']/subset_PN3_blast_fungi.seqlen_wimp.sum()*100\n",
    "subset_PI1_blast_fungi['prop'] = subset_PI1_blast_fungi['seqlen_wimp']/subset_PI1_blast_fungi.seqlen_wimp.sum()*100\n",
    "subset_PI2_blast_fungi['prop'] = subset_PI2_blast_fungi['seqlen_wimp']/subset_PI2_blast_fungi.seqlen_wimp.sum()*100\n",
    "subset_PI3_blast_fungi['prop'] = subset_PI3_blast_fungi['seqlen_wimp']/subset_PI3_blast_fungi.seqlen_wimp.sum()*100"
   ]
  },
  {
   "cell_type": "code",
   "execution_count": 23,
   "metadata": {
    "collapsed": true
   },
   "outputs": [],
   "source": [
    "P_all_wimp = pd.concat([subset_PN1_wimp_fungi, subset_PN2_wimp_fungi, subset_PN3_wimp_fungi,\n",
    "                        subset_PI1_wimp_fungi, subset_PI2_wimp_fungi, subset_PI3_wimp_fungi], ignore_index=True)"
   ]
  },
  {
   "cell_type": "code",
   "execution_count": 24,
   "metadata": {
    "collapsed": true
   },
   "outputs": [],
   "source": [
    "P_all_bacteria_wimp = pd.concat([subset_PN1_wimp_bacteria, subset_PN2_wimp_bacteria, subset_PN3_wimp_bacteria,\n",
    "                        subset_PI1_wimp_bacteria, subset_PI2_wimp_bacteria, subset_PI3_wimp_bacteria], ignore_index=True)"
   ]
  },
  {
   "cell_type": "code",
   "execution_count": 25,
   "metadata": {
    "collapsed": true
   },
   "outputs": [],
   "source": [
    "P_all_blast = pd.concat([subset_PN1_blast_fungi, subset_PN2_blast_fungi, subset_PN3_blast_fungi,\n",
    "                        subset_PI1_blast_fungi, subset_PI2_blast_fungi, subset_PI3_blast_fungi], ignore_index=True)"
   ]
  },
  {
   "cell_type": "code",
   "execution_count": 26,
   "metadata": {
    "collapsed": true
   },
   "outputs": [],
   "source": [
    "P_all_bacteria_blast = pd.concat([subset_PN1_blast_bacteria, subset_PN2_blast_bacteria, subset_PN3_blast_bacteria,\n",
    "                        subset_PI1_blast_bacteria, subset_PI2_blast_bacteria, subset_PI3_blast_bacteria], ignore_index=True)"
   ]
  },
  {
   "cell_type": "code",
   "execution_count": 27,
   "metadata": {
    "collapsed": true
   },
   "outputs": [],
   "source": [
    "blast_pivot_df_num = generate_taxonomy_pivot_count(P_all_blast, 'genus_blast', 'C_1', 500)\n",
    "wimp_pivot_df_num = generate_taxonomy_pivot_count(P_all_wimp, 'genus_wimp', 'C_1', 500)"
   ]
  },
  {
   "cell_type": "code",
   "execution_count": 28,
   "metadata": {
    "collapsed": true,
    "scrolled": true
   },
   "outputs": [],
   "source": [
    "# this are the proportion pivot figures for plotting figure 1 and 2\n",
    "blast_pivot_df = generate_taxonomy_pivot_prop(P_all_blast, 'genus_blast', 'C_1', 500)\n",
    "wimp_pivot_df = generate_taxonomy_pivot_prop(P_all_wimp, 'genus_wimp', 'C_1', 500)"
   ]
  },
  {
   "cell_type": "code",
   "execution_count": 29,
   "metadata": {},
   "outputs": [
    {
     "data": {
      "text/html": [
       "<div>\n",
       "<style scoped>\n",
       "    .dataframe tbody tr th:only-of-type {\n",
       "        vertical-align: middle;\n",
       "    }\n",
       "\n",
       "    .dataframe tbody tr th {\n",
       "        vertical-align: top;\n",
       "    }\n",
       "\n",
       "    .dataframe thead th {\n",
       "        text-align: right;\n",
       "    }\n",
       "</style>\n",
       "<table border=\"1\" class=\"dataframe\">\n",
       "  <thead>\n",
       "    <tr style=\"text-align: right;\">\n",
       "      <th>genus_blast</th>\n",
       "      <th>Malassezia</th>\n",
       "      <th>Melampsora</th>\n",
       "      <th>Botrytis</th>\n",
       "      <th>Bipolaris</th>\n",
       "      <th>Sclerotinia</th>\n",
       "      <th>Ogataea</th>\n",
       "      <th>Batrachochytrium</th>\n",
       "      <th>Penicillium</th>\n",
       "      <th>Unclassified</th>\n",
       "      <th>Fibroporia</th>\n",
       "      <th>...</th>\n",
       "      <th>Fonsecaea</th>\n",
       "      <th>Neurospora</th>\n",
       "      <th>Colletotrichum</th>\n",
       "      <th>Fellomyces</th>\n",
       "      <th>Barnettozyma</th>\n",
       "      <th>Phialophora</th>\n",
       "      <th>Pneumocystis</th>\n",
       "      <th>Podosphaera</th>\n",
       "      <th>Exophiala</th>\n",
       "      <th>Ramularia</th>\n",
       "    </tr>\n",
       "  </thead>\n",
       "  <tbody>\n",
       "    <tr>\n",
       "      <th>C_1</th>\n",
       "      <td>12.659516</td>\n",
       "      <td>5.071507</td>\n",
       "      <td>4.603960</td>\n",
       "      <td>4.460946</td>\n",
       "      <td>4.441694</td>\n",
       "      <td>4.075908</td>\n",
       "      <td>4.015402</td>\n",
       "      <td>3.668867</td>\n",
       "      <td>3.239824</td>\n",
       "      <td>2.49725</td>\n",
       "      <td>...</td>\n",
       "      <td>0.000000</td>\n",
       "      <td>0.000000</td>\n",
       "      <td>0.000000</td>\n",
       "      <td>0.000000</td>\n",
       "      <td>0.00000</td>\n",
       "      <td>0.000000</td>\n",
       "      <td>0.000000</td>\n",
       "      <td>0.000000</td>\n",
       "      <td>0.000000</td>\n",
       "      <td>0.000000</td>\n",
       "    </tr>\n",
       "    <tr>\n",
       "      <th>C_2</th>\n",
       "      <td>4.119183</td>\n",
       "      <td>0.000000</td>\n",
       "      <td>3.380658</td>\n",
       "      <td>0.000000</td>\n",
       "      <td>14.636786</td>\n",
       "      <td>0.000000</td>\n",
       "      <td>0.000000</td>\n",
       "      <td>4.100083</td>\n",
       "      <td>0.000000</td>\n",
       "      <td>0.00000</td>\n",
       "      <td>...</td>\n",
       "      <td>0.000000</td>\n",
       "      <td>0.000000</td>\n",
       "      <td>0.000000</td>\n",
       "      <td>0.000000</td>\n",
       "      <td>0.00000</td>\n",
       "      <td>0.000000</td>\n",
       "      <td>0.000000</td>\n",
       "      <td>0.000000</td>\n",
       "      <td>0.000000</td>\n",
       "      <td>0.000000</td>\n",
       "    </tr>\n",
       "    <tr>\n",
       "      <th>C_3</th>\n",
       "      <td>17.569388</td>\n",
       "      <td>2.574927</td>\n",
       "      <td>2.056948</td>\n",
       "      <td>0.000000</td>\n",
       "      <td>5.380401</td>\n",
       "      <td>0.000000</td>\n",
       "      <td>0.000000</td>\n",
       "      <td>1.155723</td>\n",
       "      <td>1.730591</td>\n",
       "      <td>0.00000</td>\n",
       "      <td>...</td>\n",
       "      <td>0.000000</td>\n",
       "      <td>3.691727</td>\n",
       "      <td>0.000000</td>\n",
       "      <td>0.865295</td>\n",
       "      <td>1.81742</td>\n",
       "      <td>0.000000</td>\n",
       "      <td>1.071888</td>\n",
       "      <td>1.251534</td>\n",
       "      <td>0.829366</td>\n",
       "      <td>0.000000</td>\n",
       "    </tr>\n",
       "    <tr>\n",
       "      <th>Pj_1</th>\n",
       "      <td>0.000000</td>\n",
       "      <td>0.000000</td>\n",
       "      <td>0.000000</td>\n",
       "      <td>0.000000</td>\n",
       "      <td>0.000000</td>\n",
       "      <td>0.000000</td>\n",
       "      <td>0.000000</td>\n",
       "      <td>0.000000</td>\n",
       "      <td>0.000000</td>\n",
       "      <td>0.00000</td>\n",
       "      <td>...</td>\n",
       "      <td>3.997954</td>\n",
       "      <td>0.000000</td>\n",
       "      <td>1.288711</td>\n",
       "      <td>0.000000</td>\n",
       "      <td>0.00000</td>\n",
       "      <td>0.641404</td>\n",
       "      <td>24.540589</td>\n",
       "      <td>0.000000</td>\n",
       "      <td>0.000000</td>\n",
       "      <td>1.097863</td>\n",
       "    </tr>\n",
       "    <tr>\n",
       "      <th>Pj_2</th>\n",
       "      <td>0.000000</td>\n",
       "      <td>0.000000</td>\n",
       "      <td>0.000000</td>\n",
       "      <td>0.000000</td>\n",
       "      <td>0.000000</td>\n",
       "      <td>0.000000</td>\n",
       "      <td>0.000000</td>\n",
       "      <td>0.000000</td>\n",
       "      <td>0.000000</td>\n",
       "      <td>0.00000</td>\n",
       "      <td>...</td>\n",
       "      <td>0.000000</td>\n",
       "      <td>0.000000</td>\n",
       "      <td>0.000000</td>\n",
       "      <td>0.000000</td>\n",
       "      <td>0.00000</td>\n",
       "      <td>0.000000</td>\n",
       "      <td>21.379865</td>\n",
       "      <td>0.000000</td>\n",
       "      <td>0.000000</td>\n",
       "      <td>0.000000</td>\n",
       "    </tr>\n",
       "    <tr>\n",
       "      <th>Pj_3</th>\n",
       "      <td>0.000000</td>\n",
       "      <td>0.000000</td>\n",
       "      <td>0.000000</td>\n",
       "      <td>0.000000</td>\n",
       "      <td>0.000000</td>\n",
       "      <td>0.000000</td>\n",
       "      <td>0.000000</td>\n",
       "      <td>0.000000</td>\n",
       "      <td>0.000000</td>\n",
       "      <td>0.00000</td>\n",
       "      <td>...</td>\n",
       "      <td>0.000000</td>\n",
       "      <td>0.000000</td>\n",
       "      <td>0.000000</td>\n",
       "      <td>0.000000</td>\n",
       "      <td>0.00000</td>\n",
       "      <td>0.000000</td>\n",
       "      <td>45.003893</td>\n",
       "      <td>0.000000</td>\n",
       "      <td>0.000000</td>\n",
       "      <td>0.000000</td>\n",
       "    </tr>\n",
       "  </tbody>\n",
       "</table>\n",
       "<p>6 rows × 86 columns</p>\n",
       "</div>"
      ],
      "text/plain": [
       "genus_blast  Malassezia  Melampsora  Botrytis  Bipolaris  Sclerotinia  \\\n",
       "C_1           12.659516    5.071507  4.603960   4.460946     4.441694   \n",
       "C_2            4.119183    0.000000  3.380658   0.000000    14.636786   \n",
       "C_3           17.569388    2.574927  2.056948   0.000000     5.380401   \n",
       "Pj_1           0.000000    0.000000  0.000000   0.000000     0.000000   \n",
       "Pj_2           0.000000    0.000000  0.000000   0.000000     0.000000   \n",
       "Pj_3           0.000000    0.000000  0.000000   0.000000     0.000000   \n",
       "\n",
       "genus_blast   Ogataea  Batrachochytrium  Penicillium  Unclassified  \\\n",
       "C_1          4.075908          4.015402     3.668867      3.239824   \n",
       "C_2          0.000000          0.000000     4.100083      0.000000   \n",
       "C_3          0.000000          0.000000     1.155723      1.730591   \n",
       "Pj_1         0.000000          0.000000     0.000000      0.000000   \n",
       "Pj_2         0.000000          0.000000     0.000000      0.000000   \n",
       "Pj_3         0.000000          0.000000     0.000000      0.000000   \n",
       "\n",
       "genus_blast  Fibroporia    ...      Fonsecaea  Neurospora  Colletotrichum  \\\n",
       "C_1             2.49725    ...       0.000000    0.000000        0.000000   \n",
       "C_2             0.00000    ...       0.000000    0.000000        0.000000   \n",
       "C_3             0.00000    ...       0.000000    3.691727        0.000000   \n",
       "Pj_1            0.00000    ...       3.997954    0.000000        1.288711   \n",
       "Pj_2            0.00000    ...       0.000000    0.000000        0.000000   \n",
       "Pj_3            0.00000    ...       0.000000    0.000000        0.000000   \n",
       "\n",
       "genus_blast  Fellomyces  Barnettozyma  Phialophora  Pneumocystis  Podosphaera  \\\n",
       "C_1            0.000000       0.00000     0.000000      0.000000     0.000000   \n",
       "C_2            0.000000       0.00000     0.000000      0.000000     0.000000   \n",
       "C_3            0.865295       1.81742     0.000000      1.071888     1.251534   \n",
       "Pj_1           0.000000       0.00000     0.641404     24.540589     0.000000   \n",
       "Pj_2           0.000000       0.00000     0.000000     21.379865     0.000000   \n",
       "Pj_3           0.000000       0.00000     0.000000     45.003893     0.000000   \n",
       "\n",
       "genus_blast  Exophiala  Ramularia  \n",
       "C_1           0.000000   0.000000  \n",
       "C_2           0.000000   0.000000  \n",
       "C_3           0.829366   0.000000  \n",
       "Pj_1          0.000000   1.097863  \n",
       "Pj_2          0.000000   0.000000  \n",
       "Pj_3          0.000000   0.000000  \n",
       "\n",
       "[6 rows x 86 columns]"
      ]
     },
     "execution_count": 29,
     "metadata": {},
     "output_type": "execute_result"
    }
   ],
   "source": [
    "T_blast_pivot_df = blast_pivot_df.T\n",
    "T_blast_pivot_df"
   ]
  },
  {
   "cell_type": "code",
   "execution_count": 30,
   "metadata": {
    "collapsed": true
   },
   "outputs": [],
   "source": [
    "# profiling and tidy up data to be percentage\n",
    "# this is a tricky part\n",
    "# Here we would like to take the top 19 genera for plotting individually and all the other genera go to 'others'. \n",
    "# Because there is a 'Unclassified fungi' in wimp plotting so we decided to preserve the 'Unclassified fungi' in blast result although it is not ranked in the top 19\n",
    "# Here is the hard code to modify the dataframe\n",
    "T_blast_pivot_df['Others'] = T_blast_pivot_df[(T_blast_pivot_df.loc[:,:] < 4.43) & (T_blast_pivot_df.columns != 'Unclassified')].sum(axis=1)\n",
    "T_blast_pivot_df = T_blast_pivot_df[(T_blast_pivot_df.loc[:,:] < 4.43) == 0]\n",
    "T_blast_pivot_df['Unclassified'] = [3.239824,0.000000,1.730591,0.000000,0.000000,0.000000]\n",
    "#T_blast_pivot_df = T_blast_pivot_df[T_blast_pivot_df.loc[:,'Unclassified'] == [3.239824,0.000000,1.730591,0.000000,0.000000,0.000000]]\n",
    "blast_pivot_df_sum = T_blast_pivot_df.T\n",
    "blast_pivot_df_sum.fillna(value=0, inplace=True)\n",
    "blast_pivot_df_sum = blast_pivot_df_sum[blast_pivot_df_sum.sum(axis=1) != 0]"
   ]
  },
  {
   "cell_type": "code",
   "execution_count": 31,
   "metadata": {
    "collapsed": true
   },
   "outputs": [],
   "source": [
    "T_wimp_pivot_df = wimp_pivot_df.T\n",
    "T_wimp_pivot_df['Others'] = T_wimp_pivot_df[T_wimp_pivot_df.loc[:,:] < 1.96].sum(axis=1)\n",
    "T_wimp_pivot_df = T_wimp_pivot_df[(T_wimp_pivot_df.loc[:,:] < 1.96) == 0]\n",
    "wimp_pivot_df_sum = T_wimp_pivot_df.T\n",
    "wimp_pivot_df_sum.fillna(value=0, inplace=True)\n",
    "wimp_pivot_df_sum = wimp_pivot_df_sum[wimp_pivot_df_sum.sum(axis=1) != 0]"
   ]
  },
  {
   "cell_type": "code",
   "execution_count": 32,
   "metadata": {
    "collapsed": true,
    "scrolled": false
   },
   "outputs": [],
   "source": [
    "blast_pivot_df_sum_reorder = blast_pivot_df_sum.loc[:,['C_1', 'C_2', 'C_3', 'Pj_1', 'Pj_2', 'Pj_3',]]\n",
    "wimp_pivot_df_sum_reorder = wimp_pivot_df_sum.loc[:,['C_1', 'C_2', 'C_3', 'Pj_1', 'Pj_2', 'Pj_3',]]"
   ]
  },
  {
   "cell_type": "code",
   "execution_count": 33,
   "metadata": {},
   "outputs": [
    {
     "data": {
      "image/png": "[encoded data removed]",
      "text/plain": [
       "<Figure size 504x360 with 1 Axes>"
      ]
     },
     "metadata": {},
     "output_type": "display_data"
    }
   ],
   "source": [
    "fig, ax = plt.subplots(1,figsize=(10,10))\n",
    "blast_pivot_df_sum_reorder.T.plot(kind='bar', stacked=True,\n",
    "              colormap=ListedColormap(sns.color_palette('tab20b', 20)), fontsize=14, rot=0,\n",
    "              figsize=(7,5),edgecolor='white', ax = ax)\n",
    "\n",
    "handles, labels = ax.get_legend_handles_labels()\n",
    "#here we go for sorting handles and labels\n",
    "legend_dict = dict(zip(labels, handles))\n",
    "lables_list_sorted = [x for x in legend_dict.keys()]\n",
    "lables_list_sorted.sort()\n",
    "legend_handle_list_sorted = [legend_dict[x] for x in lables_list_sorted]\n",
    "\n",
    "ax.legend(legend_handle_list_sorted, lables_list_sorted, loc='center right',bbox_to_anchor=(1.88, 0.45), ncol=2, fontsize=14)#, fontproperties=font)\n",
    "ax.set_ylabel(\"Relative abundance (%)\", fontsize=14)\n",
    "\n",
    "plt.savefig('/home/yiheng/analysis/clinical_WGS/Pneumocystis/figure1_blast.svg', bbox_inches='tight', dpi=600)\n",
    "\n",
    "plt.show()"
   ]
  },
  {
   "cell_type": "code",
   "execution_count": 34,
   "metadata": {},
   "outputs": [
    {
     "data": {
      "image/png": "[encoded data removed]",
      "text/plain": [
       "<Figure size 504x360 with 1 Axes>"
      ]
     },
     "metadata": {},
     "output_type": "display_data"
    }
   ],
   "source": [
    "fig, ax = plt.subplots(1,figsize=(10,10))\n",
    "wimp_pivot_df_sum_reorder.T.plot(kind='bar', stacked=True,\n",
    "              colormap=ListedColormap(sns.color_palette('tab20b', 20)), fontsize=14, rot=0,\n",
    "              figsize=(7,5),edgecolor='white', ax = ax)\n",
    "\n",
    "\n",
    "handles, labels = ax.get_legend_handles_labels()\n",
    "#here we go for sorting handles and labels\n",
    "legend_dict = dict(zip(labels, handles))\n",
    "lables_list_sorted = [x for x in legend_dict.keys()]\n",
    "lables_list_sorted.sort()\n",
    "legend_handle_list_sorted = [legend_dict[x] for x in lables_list_sorted]\n",
    "\n",
    "ax.legend(legend_handle_list_sorted, lables_list_sorted, loc='center right',bbox_to_anchor=(1.99, 0.45), ncol=2, fontsize=14)#, fontproperties=font)\n",
    "ax.set_ylabel(\"Relative abundance (%)\", fontsize=14)\n",
    "\n",
    "plt.savefig('/home/yiheng/analysis/clinical_WGS/Pneumocystis/figure1_wimp.svg', bbox_inches='tight', dpi=600)\n",
    "plt.show()"
   ]
  },
  {
   "cell_type": "code",
   "execution_count": null,
   "metadata": {
    "collapsed": true
   },
   "outputs": [],
   "source": []
  }
 ],
 "metadata": {
  "kernelspec": {
   "display_name": "Python 3",
   "language": "python",
   "name": "python3"
  },
  "language_info": {
   "codemirror_mode": {
    "name": "ipython",
    "version": 3
   },
   "file_extension": ".py",
   "mimetype": "text/x-python",
   "name": "python",
   "nbconvert_exporter": "python",
   "pygments_lexer": "ipython3",
   "version": "3.6.8"
  }
 },
 "nbformat": 4,
 "nbformat_minor": 2
}
