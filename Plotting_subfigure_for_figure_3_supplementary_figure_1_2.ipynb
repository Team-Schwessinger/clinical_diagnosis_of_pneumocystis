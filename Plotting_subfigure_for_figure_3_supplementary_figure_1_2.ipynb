{
 "cells": [
  {
   "cell_type": "code",
   "execution_count": 33,
   "metadata": {
    "collapsed": true
   },
   "outputs": [],
   "source": [
    "import numpy as np\n",
    "import os\n",
    "import pandas as pd\n",
    "import matplotlib.pyplot as plt\n",
    "import matplotlib\n",
    "from decimal import Decimal\n"
   ]
  },
  {
   "cell_type": "code",
   "execution_count": 26,
   "metadata": {
    "collapsed": true
   },
   "outputs": [],
   "source": [
    "%matplotlib inline"
   ]
  },
  {
   "cell_type": "code",
   "execution_count": 37,
   "metadata": {
    "collapsed": true
   },
   "outputs": [],
   "source": [
    "### Please note the small difference of the function for each script\n",
    "def generate_taxonomy_pivot_wimp(tax_df, rank, bcs, num):\n",
    "    \"\"\"From tax_df, generate a pivot table listing num rank counts, sorted by bcs\"\"\"\n",
    "    pivot_table = tax_df.pivot_table(values='seqlen_wimp', \n",
    "                                            index=rank, \n",
    "                                            columns='barcode_wimp', \n",
    "                                            aggfunc='sum', \n",
    "                                            fill_value=0)\n",
    "    pivot_table.columns.name = None\n",
    "    pivot_table = pivot_table.sort_values(bcs, axis=0, ascending=False).head(n=num)\n",
    "    return pivot_table\n",
    "\n",
    "\n",
    "#count pivot table of dataframe with taxonomic columns: \n",
    "#rows - rank names, columns - barcode, sorted by desired class\n",
    "def generate_taxonomy_pivot_blast(tax_df, rank, bcs, num):\n",
    "    \"\"\"From tax_df, generate a pivot table listing num rank counts, sorted by bcs\"\"\"\n",
    "    pivot_table = tax_df.pivot_table(values='sequence_length_template_blast', \n",
    "                                            index=rank, \n",
    "                                            columns='barcode_arrangement_blast', \n",
    "                                            aggfunc='sum', \n",
    "                                            fill_value=0)\n",
    "    pivot_table.columns.name = None\n",
    "    pivot_table = pivot_table.sort_values(bcs, axis=0, ascending=False).head(n=num)\n",
    "    return pivot_table"
   ]
  },
  {
   "cell_type": "code",
   "execution_count": 28,
   "metadata": {
    "scrolled": true
   },
   "outputs": [
    {
     "name": "stderr",
     "output_type": "stream",
     "text": [
      "/home/yiheng/anaconda3/lib/python3.6/site-packages/IPython/core/interactiveshell.py:2717: DtypeWarning: Columns (17,19) have mixed types. Specify dtype option on import or set low_memory=False.\n",
      "  interactivity=interactivity, compiler=compiler, result=result)\n"
     ]
    }
   ],
   "source": [
    "# put in all input path and load the final_df\n",
    "basedir = '/home/yiheng/data/20181118_FAH84398'\n",
    "barcode = '08'\n",
    "final_df = pd.read_csv(os.path.join(basedir, 'analysis', 'final_df.barcode%s.csv' % barcode), sep='\\t')"
   ]
  },
  {
   "cell_type": "code",
   "execution_count": 29,
   "metadata": {
    "collapsed": true
   },
   "outputs": [],
   "source": [
    "# sort out the information from WIMP taxa\n",
    "unclassified_reads_wimp = final_df[final_df.exit_status_wimp == 'Unclassified']\n",
    "human_reads_wimp = final_df[final_df.species_wimp == 'Homo sapiens']\n",
    "mammal_reads_wimp = final_df[(final_df.class_wimp == 'Mammalia') & (final_df.species_wimp != 'Homo sapiens')]\n",
    "microbe_reads_wimp = final_df[(final_df.species_wimp != 'Homo sapiens') & (final_df.exit_status_wimp == 'Classified')]\n",
    "total_length_wimp = sum(final_df.seqlen_wimp)\n",
    "unclassified_reads_wimp_proportion = sum(unclassified_reads_wimp.seqlen_wimp)/total_length_wimp*100\n",
    "human_reads_wimp_proportion = sum(human_reads_wimp.seqlen_wimp)/total_length_wimp*100\n",
    "mammal_reads_wimp_proportion = sum(mammal_reads_wimp.seqlen_wimp)/total_length_wimp*100\n",
    "microbe_reads_wimp_proportion = sum(microbe_reads_wimp.seqlen_wimp)/total_length_wimp*100\n",
    "column_name = 'barcode%s' % barcode\n",
    "wimphit_df = pd.DataFrame([unclassified_reads_wimp_proportion, human_reads_wimp_proportion, mammal_reads_wimp_proportion, microbe_reads_wimp_proportion])\n",
    "wimphit_df.columns = [column_name]"
   ]
  },
  {
   "cell_type": "code",
   "execution_count": 30,
   "metadata": {
    "collapsed": true
   },
   "outputs": [],
   "source": [
    "# sort out the information from BLAST taxa\n",
    "unclassified_reads_blast = final_df[final_df.species_blast == 'Unclassified']\n",
    "human_reads_blast = final_df[final_df.species_blast == 'Homo sapiens']\n",
    "mammal_reads_blast = final_df[(final_df.class_blast == 'Mammalia') & (final_df.species_blast != 'Homo sapiens')]\n",
    "no_mammal_reads_blast = final_df[(final_df.class_blast != 'Mammalia') & (final_df.class_blast != 'Unclassified')]\n",
    "total_length_blast = sum(final_df.sequence_length_template_blast)\n",
    "unclassified_reads_blast_proportion = sum(unclassified_reads_blast.sequence_length_template_blast)/total_length_blast*100\n",
    "human_reads_blast_proportion = sum(human_reads_blast.sequence_length_template_blast)/total_length_blast*100\n",
    "mammal_reads_blast_proportion = sum(mammal_reads_blast.sequence_length_template_blast)/total_length_blast*100\n",
    "microbe_reads_blast_proportion = sum(no_mammal_reads_blast.sequence_length_template_blast)/total_length_blast*100\n",
    "column_name = 'barcode%s' % barcode\n",
    "blasthit_df = pd.DataFrame([unclassified_reads_blast_proportion, human_reads_blast_proportion,mammal_reads_blast_proportion, microbe_reads_blast_proportion])\n",
    "blasthit_df.columns = [column_name]"
   ]
  },
  {
   "cell_type": "code",
   "execution_count": 31,
   "metadata": {
    "collapsed": true
   },
   "outputs": [],
   "source": [
    "hit_df = pd.concat([wimphit_df, blasthit_df], axis=1).T"
   ]
  },
  {
   "cell_type": "code",
   "execution_count": 32,
   "metadata": {},
   "outputs": [
    {
     "data": {
      "image/png": "[encoded data removed]",
      "text/plain": [
       "<Figure size 432x288 with 1 Axes>"
      ]
     },
     "metadata": {},
     "output_type": "display_data"
    }
   ],
   "source": [
    "# plot subfigure for supplementary figure S1\n",
    "def get_color(x):\n",
    "    x = x%10\n",
    "    return ('#%02X%02X%02X' % (int(plt.cm.tab10.colors[x][0]*255),int(plt.cm.tab10.colors[x][1]*255),int(plt.cm.tab10.colors[x][2]*255)))\n",
    "\n",
    "barWidth = 1\n",
    "r = [0,2]\n",
    "plt.bar(r, hit_df[3], label = 'microbe reads', color=get_color(2), edgecolor='white', width=barWidth)\n",
    "plt.bar(r, hit_df[2], label = 'mammal reads other than human', bottom=hit_df[3], color=get_color(3), edgecolor='white', width=barWidth)\n",
    "plt.bar(r, hit_df[1], label = 'human reads', bottom=[i+j for i,j in zip(hit_df[3], hit_df[2])], color=get_color(10), edgecolor='white', width=barWidth)\n",
    "plt.bar(r, hit_df[0], label = 'unclassified reads', bottom=[i+j+k for i,j,k in zip(hit_df[3], hit_df[2], hit_df[1])], color='#E6A82A', edgecolor='white', width=barWidth)\n",
    "\n",
    "plt.xticks(r, ['WIMP', 'BLAST'], fontsize=14)\n",
    "WIMP_text = '%.2E' % Decimal(sum(final_df.seqlen_wimp))\n",
    "blast_text = '%.2E' % Decimal(sum(final_df.sequence_length_template_blast))\n",
    "\n",
    "plt.text(-0.35, 5, WIMP_text, fontsize=14)\n",
    "plt.text(1.65, 5, blast_text, fontsize=14)\n",
    "\n",
    "plt.ylabel(\"Relative abundance (%)\", fontsize=14)\n",
    "\n",
    "plt.savefig('/home/yiheng/analysis/clinical_WGS/Pneumocystis/barcode%s_hits.svg' % barcode, bbox_inches='tight', dpi=600)\n",
    "plt.show()"
   ]
  },
  {
   "cell_type": "code",
   "execution_count": 49,
   "metadata": {
    "collapsed": true
   },
   "outputs": [],
   "source": [
    "### Now start plotting figure 3 and supplementary figure S2 using floweaver\n",
    "from floweaver import *"
   ]
  },
  {
   "cell_type": "code",
   "execution_count": 57,
   "metadata": {},
   "outputs": [
    {
     "name": "stderr",
     "output_type": "stream",
     "text": [
      "/home/yiheng/anaconda3/lib/python3.6/site-packages/ipykernel_launcher.py:9: SettingWithCopyWarning: \n",
      "A value is trying to be set on a copy of a slice from a DataFrame.\n",
      "Try using .loc[row_indexer,col_indexer] = value instead\n",
      "\n",
      "See the caveats in the documentation: http://pandas.pydata.org/pandas-docs/stable/indexing.html#indexing-view-versus-copy\n",
      "  if __name__ == '__main__':\n",
      "/home/yiheng/anaconda3/lib/python3.6/site-packages/ipykernel_launcher.py:10: SettingWithCopyWarning: \n",
      "A value is trying to be set on a copy of a slice from a DataFrame.\n",
      "Try using .loc[row_indexer,col_indexer] = value instead\n",
      "\n",
      "See the caveats in the documentation: http://pandas.pydata.org/pandas-docs/stable/indexing.html#indexing-view-versus-copy\n",
      "  # Remove the CWD from sys.path while we load stuff.\n",
      "/home/yiheng/anaconda3/lib/python3.6/site-packages/ipykernel_launcher.py:11: SettingWithCopyWarning: \n",
      "A value is trying to be set on a copy of a slice from a DataFrame.\n",
      "Try using .loc[row_indexer,col_indexer] = value instead\n",
      "\n",
      "See the caveats in the documentation: http://pandas.pydata.org/pandas-docs/stable/indexing.html#indexing-view-versus-copy\n",
      "  # This is added back by InteractiveShellApp.init_path()\n"
     ]
    }
   ],
   "source": [
    "trimed_final_df = final_df.drop(columns=['bitscore_blast', 'length_blast', 'passes_filtering_blast', 'pident_blast', 'read_id_blast', 'mean_qscore_wimp',\n",
    "                                         'taxID_wimp', 'staxids_blast', 'score_wimp', 'mean_qscore_template_blast',\n",
    "                                        'send_blast', 'sstart_blast', 'sseqid_blast', 'coverage_blast', 'nident_blast'])\n",
    "fungal_phylums = ['Blastocladiomycota', 'Chytridiomycota', 'Glomeromycota', 'Microsporidia', \n",
    "                  'Neocallimastigomycota', 'Ascomycota', 'Basidiomycota', 'Mucoromycota']\n",
    "fungal_final_df = trimed_final_df[trimed_final_df.phylum_blast.isin(fungal_phylums) |\n",
    "                                  trimed_final_df.phylum_wimp.isin(fungal_phylums)]\n",
    "# columns required for Sankey graph\n",
    "fungal_final_df['source'] = fungal_final_df.phylum_blast\n",
    "fungal_final_df['target'] = fungal_final_df.phylum_wimp\n",
    "fungal_final_df['value'] = fungal_final_df.seqlen_wimp\n",
    "\n",
    "\n",
    "### this overlapped df was used for providing information for table 2\n",
    "overlapped_fungal_df = fungal_final_df[(fungal_final_df.source.isin(fungal_phylums)) & (fungal_final_df.target.isin(fungal_phylums))]"
   ]
  },
  {
   "cell_type": "code",
   "execution_count": 61,
   "metadata": {},
   "outputs": [
    {
     "data": {
      "text/plain": [
       "Index(['Ascomycota', 'Basidiomycota', 'Mucoromycota', 'Chytridiomycota',\n",
       "       'Unclassified', 'Microsporidia', 'Chordata'],\n",
       "      dtype='object', name='phylum_wimp')"
      ]
     },
     "execution_count": 61,
     "metadata": {},
     "output_type": "execute_result"
    }
   ],
   "source": [
    "final_WIMP_df_fungi_pivot = generate_taxonomy_pivot_wimp(fungal_final_df, 'phylum_wimp', 'barcode%s' % barcode, 30)\n",
    "# this is used to mannual copy the 'others' portion of Sankey graph\n",
    "final_WIMP_df_fungi_pivot.index"
   ]
  },
  {
   "cell_type": "code",
   "execution_count": 60,
   "metadata": {},
   "outputs": [
    {
     "data": {
      "text/plain": [
       "Index(['Chordata', 'Unclassified', 'Firmicutes', 'Actinobacteria',\n",
       "       'Ascomycota', 'Bacteroidetes', 'Platyhelminthes', 'Nematoda',\n",
       "       'Streptophyta', 'Fusobacteria'],\n",
       "      dtype='object', name='phylum_blast')"
      ]
     },
     "execution_count": 60,
     "metadata": {},
     "output_type": "execute_result"
    }
   ],
   "source": [
    "final_blast_df_fungi_pivot = generate_taxonomy_pivot_blast(fungal_final_df, 'phylum_blast', 'barcode%s' % barcode, 30)\n",
    "# this is used to mannual copy the 'others' portion of Sankey graph\n",
    "final_blast_df_fungi_pivot.index"
   ]
  },
  {
   "cell_type": "code",
   "execution_count": 59,
   "metadata": {
    "collapsed": true
   },
   "outputs": [],
   "source": [
    "fungi_dataset = Dataset(fungal_final_df)"
   ]
  },
  {
   "cell_type": "code",
   "execution_count": 62,
   "metadata": {
    "collapsed": true
   },
   "outputs": [],
   "source": [
    "###Check the hard code!!!\n",
    "\n",
    "nodes = {\n",
    "    'phylum_blast': ProcessGroup(fungal_final_df.phylum_blast.tolist()),\n",
    "    'phylum_wimp': ProcessGroup(fungal_final_df.phylum_wimp.tolist()),\n",
    "}\n",
    "\n",
    "ordering = [\n",
    "    ['phylum_blast'],       # put \"farms\" on the left...\n",
    "    ['phylum_wimp']   # ... and \"customers\" on the right.\n",
    "]\n",
    "bundles = [\n",
    "    Bundle('phylum_blast', 'phylum_wimp')\n",
    "]\n",
    "sdd = SankeyDefinition(nodes, bundles, ordering)\n",
    "\n",
    "blast_phylums_with_other = Partition.Simple('process', [\n",
    "     'Unclassified', ('Fungi', ['Ascomycota']),\n",
    "    ('Non-fungi', ['Chordata', 'Firmicutes', 'Actinobacteria',\n",
    "     'Bacteroidetes', 'Platyhelminthes', 'Nematoda',\n",
    "     'Streptophyta', 'Fusobacteria'])])   # ... or a group\n",
    "\n",
    "wimp_phylums_with_other = Partition.Simple('process', [\n",
    "    'Unclassified',('Fungi', ['Ascomycota', 'Basidiomycota', 'Mucoromycota', 'Chytridiomycota',\n",
    "      'Microsporidia']),\n",
    "    ('Non-fungi', ['Chordata']) # ... or a group\n",
    "])"
   ]
  },
  {
   "cell_type": "code",
   "execution_count": 63,
   "metadata": {
    "collapsed": true
   },
   "outputs": [],
   "source": [
    "nodes['phylum_blast'].partition = blast_phylums_with_other\n",
    "nodes['phylum_wimp'].partition = wimp_phylums_with_other"
   ]
  },
  {
   "cell_type": "code",
   "execution_count": 64,
   "metadata": {},
   "outputs": [
    {
     "data": {
      "application/vnd.jupyter.widget-view+json": {
       "model_id": "7ffb278ee5a44e57bcf0b3590141f25c",
       "version_major": 2,
       "version_minor": 0
      },
      "text/plain": [
       "SankeyWidget(groups=[{'id': 'phylum_blast', 'type': 'process', 'title': '', 'nodes': ['phylum_blast^Unclassifi…"
      ]
     },
     "metadata": {},
     "output_type": "display_data"
    }
   ],
   "source": [
    "size = dict(width=360, height=200)\n",
    "weave(sdd, fungi_dataset).to_widget(**size).auto_save_svg('/home/yiheng/analysis/clinical_WGS/Pneumocystis/barcode%s_fungi_sankey.svg' % barcode)"
   ]
  },
  {
   "cell_type": "code",
   "execution_count": 83,
   "metadata": {},
   "outputs": [
    {
     "name": "stderr",
     "output_type": "stream",
     "text": [
      "/home/yiheng/anaconda3/lib/python3.6/site-packages/ipykernel_launcher.py:4: SettingWithCopyWarning: \n",
      "A value is trying to be set on a copy of a slice from a DataFrame.\n",
      "Try using .loc[row_indexer,col_indexer] = value instead\n",
      "\n",
      "See the caveats in the documentation: http://pandas.pydata.org/pandas-docs/stable/indexing.html#indexing-view-versus-copy\n",
      "  after removing the cwd from sys.path.\n",
      "/home/yiheng/anaconda3/lib/python3.6/site-packages/ipykernel_launcher.py:5: SettingWithCopyWarning: \n",
      "A value is trying to be set on a copy of a slice from a DataFrame.\n",
      "Try using .loc[row_indexer,col_indexer] = value instead\n",
      "\n",
      "See the caveats in the documentation: http://pandas.pydata.org/pandas-docs/stable/indexing.html#indexing-view-versus-copy\n",
      "  \"\"\"\n",
      "/home/yiheng/anaconda3/lib/python3.6/site-packages/ipykernel_launcher.py:6: SettingWithCopyWarning: \n",
      "A value is trying to be set on a copy of a slice from a DataFrame.\n",
      "Try using .loc[row_indexer,col_indexer] = value instead\n",
      "\n",
      "See the caveats in the documentation: http://pandas.pydata.org/pandas-docs/stable/indexing.html#indexing-view-versus-copy\n",
      "  \n"
     ]
    }
   ],
   "source": [
    "# now plotting subfigure for supplementary figure S2\n",
    "bacteria_final_df = trimed_final_df[(trimed_final_df.superkingdom_blast == 'Bacteria') \n",
    "                                    | (trimed_final_df.superkingdom_wimp == 'Bacteria')]\n",
    "bacteria_final_df['source'] = bacteria_final_df.superkingdom_blast\n",
    "bacteria_final_df['target'] = bacteria_final_df.superkingdom_wimp\n",
    "bacteria_final_df['value'] = bacteria_final_df.seqlen_wimp"
   ]
  },
  {
   "cell_type": "code",
   "execution_count": 84,
   "metadata": {},
   "outputs": [
    {
     "data": {
      "text/plain": [
       "Index(['Bacteria', 'Unclassified', 'Eukaryota'], dtype='object', name='superkingdom_wimp')"
      ]
     },
     "execution_count": 84,
     "metadata": {},
     "output_type": "execute_result"
    }
   ],
   "source": [
    "final_WIMP_df_bacteria_pivot = generate_taxonomy_pivot_wimp(bacteria_final_df, 'superkingdom_wimp', 'barcode%s' % barcode, 30)\n",
    "final_WIMP_df_bacteria_pivot.index"
   ]
  },
  {
   "cell_type": "code",
   "execution_count": 85,
   "metadata": {},
   "outputs": [
    {
     "data": {
      "text/plain": [
       "Index(['Bacteria', 'Unclassified', 'Eukaryota', 'Viruses'], dtype='object', name='superkingdom_blast')"
      ]
     },
     "execution_count": 85,
     "metadata": {},
     "output_type": "execute_result"
    }
   ],
   "source": [
    "final_blast_df_bacteria_pivot = generate_taxonomy_pivot_blast(bacteria_final_df, 'superkingdom_blast', 'barcode%s' % barcode, 30)\n",
    "final_blast_df_bacteria_pivot.index"
   ]
  },
  {
   "cell_type": "code",
   "execution_count": 86,
   "metadata": {
    "collapsed": true
   },
   "outputs": [],
   "source": [
    "bacteria_dataset = Dataset(bacteria_final_df)"
   ]
  },
  {
   "cell_type": "code",
   "execution_count": 87,
   "metadata": {
    "collapsed": true
   },
   "outputs": [],
   "source": [
    "### mannual check the hard code from the indexes above\n",
    "nodes = {\n",
    "    'superkingdom_blast': ProcessGroup(bacteria_final_df.superkingdom_blast.tolist()),\n",
    "    'superkingdom_wimp': ProcessGroup(bacteria_final_df.superkingdom_wimp.tolist()),\n",
    "}\n",
    "\n",
    "ordering = [\n",
    "    ['superkingdom_blast'],       # put \"farms\" on the left...\n",
    "    ['superkingdom_wimp']   # ... and \"customers\" on the right.\n",
    "]\n",
    "bundles = [\n",
    "    Bundle('superkingdom_blast', 'superkingdom_wimp')\n",
    "]\n",
    "sdd = SankeyDefinition(nodes, bundles, ordering)\n",
    "\n",
    "blast_superkingdom_with_other = Partition.Simple('process', [\n",
    "     'Unclassified', 'Bacteria',\n",
    "    ('Non-bacteria', ['Eukaryota', 'Viruses'])])   # ... or a group\n",
    "\n",
    "wimp_superkingdom_with_other = Partition.Simple('process', [\n",
    "    'Unclassified', 'Bacteria',\n",
    "    ('Non-bacteria', ['Eukaryota']) # ... or a group\n",
    "])"
   ]
  },
  {
   "cell_type": "code",
   "execution_count": 88,
   "metadata": {
    "collapsed": true
   },
   "outputs": [],
   "source": [
    "nodes['superkingdom_blast'].partition = blast_superkingdom_with_other\n",
    "nodes['superkingdom_wimp'].partition = wimp_superkingdom_with_other"
   ]
  },
  {
   "cell_type": "code",
   "execution_count": 89,
   "metadata": {},
   "outputs": [
    {
     "data": {
      "application/vnd.jupyter.widget-view+json": {
       "model_id": "c7c8b0bbbc314d2a930c7543935c088f",
       "version_major": 2,
       "version_minor": 0
      },
      "text/plain": [
       "SankeyWidget(groups=[{'id': 'superkingdom_blast', 'type': 'process', 'title': '', 'nodes': ['superkingdom_blas…"
      ]
     },
     "metadata": {},
     "output_type": "display_data"
    }
   ],
   "source": [
    "size = dict(width=360, height=200)\n",
    "weave(sdd, bacteria_dataset).to_widget(**size).auto_save_svg('/home/yiheng/analysis/clinical_WGS/Pneumocystis/barcode%s_bacteria_sankey.svg' % barcode)"
   ]
  },
  {
   "cell_type": "code",
   "execution_count": null,
   "metadata": {
    "collapsed": true
   },
   "outputs": [],
   "source": []
  },
  {
   "cell_type": "code",
   "execution_count": null,
   "metadata": {
    "collapsed": true
   },
   "outputs": [],
   "source": []
  }
 ],
 "metadata": {
  "kernelspec": {
   "display_name": "Python 3",
   "language": "python",
   "name": "python3"
  },
  "language_info": {
   "codemirror_mode": {
    "name": "ipython",
    "version": 3
   },
   "file_extension": ".py",
   "mimetype": "text/x-python",
   "name": "python",
   "nbconvert_exporter": "python",
   "pygments_lexer": "ipython3",
   "version": "3.6.8"
  }
 },
 "nbformat": 4,
 "nbformat_minor": 2
}
